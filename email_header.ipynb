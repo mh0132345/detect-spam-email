{
  "nbformat": 4,
  "nbformat_minor": 0,
  "metadata": {
    "colab": {
      "name": "email_header.ipynb",
      "provenance": [],
      "collapsed_sections": []
    },
    "kernelspec": {
      "name": "python3",
      "display_name": "Python 3"
    },
    "accelerator": "GPU"
  },
  "cells": [
    {
      "cell_type": "code",
      "metadata": {
        "id": "vPvGVk4HVA88",
        "colab_type": "code",
        "colab": {}
      },
      "source": [
        "import pandas as pd"
      ],
      "execution_count": 0,
      "outputs": []
    },
    {
      "cell_type": "code",
      "metadata": {
        "id": "3tY7ebHcVwEB",
        "colab_type": "code",
        "outputId": "840bbc18-4fad-47b8-dbea-19565d273f03",
        "colab": {
          "base_uri": "https://localhost:8080/",
          "height": 615
        }
      },
      "source": [
        "df = pd.read_csv(\"email_header.csv\")\n",
        "df.head()"
      ],
      "execution_count": 0,
      "outputs": [
        {
          "output_type": "stream",
          "text": [
            "/usr/local/lib/python3.6/dist-packages/IPython/core/interactiveshell.py:2718: DtypeWarning: Columns (9,25,26,28,29,30,34,35,36,37,38,39,40,41,43,45,46,48,51,57,58,60,63,66,67,68,70,74,75,76,77,78,79,85,88,93,95,97,98,99,101,103,104,106,108,109,110,114,115,116,118,120,122,123,124,125,126,127,128,131,132,134,135,136,137,138,139,140,141,142,144,145,146,147,148,149,150,151,152,153,154,156,157,158,159,160,161,162,163,164,166,167,168,169,170,171,172,173,174,175,176,177,179,180,181,183,185,186,187,188,189,190,191,192,194,195,196,197,198,199,200,201,202,203,204,205,206,207,208,209,210,211,212,213,215,216,217,218,219,220,221,222,223,225,226,227,230,231,232,233,234,235,236,237,238,239,240,241,242,243,244,248,249,250,251,252,253,254,256,257,258,259,260,262,263,265,269,270,271,272,273,274,275,277,279,280,281,283,285,287,288,289,291,293,294,295,297,298,300,301,302,303,304,305,306,307,308,311,313,315,316,317,318,319,320,321,322,323,325,326,327,328,329,332,335,336,337,338,339,340,341,342,343,344,345,346,347,348,350,351,352,353,354,355,356,358,359,360,362,364,365,366,367,369,370,371,373,375,376,377,378,381,384,385,386,387,388,389,390,391,392,393,394,395,396,397,398,399,400,401,402,403,404,405,406,409,410,411,412,413,414,416,417,418,419,420,421,422,423,424,425,426,427,428,429,430,431,432) have mixed types. Specify dtype option on import or set low_memory=False.\n",
            "  interactivity=interactivity, compiler=compiler, result=result)\n"
          ],
          "name": "stderr"
        },
        {
          "output_type": "execute_result",
          "data": {
            "text/html": [
              "<div>\n",
              "<style scoped>\n",
              "    .dataframe tbody tr th:only-of-type {\n",
              "        vertical-align: middle;\n",
              "    }\n",
              "\n",
              "    .dataframe tbody tr th {\n",
              "        vertical-align: top;\n",
              "    }\n",
              "\n",
              "    .dataframe thead th {\n",
              "        text-align: right;\n",
              "    }\n",
              "</style>\n",
              "<table border=\"1\" class=\"dataframe\">\n",
              "  <thead>\n",
              "    <tr style=\"text-align: right;\">\n",
              "      <th></th>\n",
              "      <th>Unnamed: 0</th>\n",
              "      <th>Return-Path</th>\n",
              "      <th>Delivered-To</th>\n",
              "      <th>Received</th>\n",
              "      <th>X-Original-To</th>\n",
              "      <th>X-Virus-Scanned</th>\n",
              "      <th>Message-ID</th>\n",
              "      <th>Date</th>\n",
              "      <th>From</th>\n",
              "      <th>MIME-Version</th>\n",
              "      <th>To</th>\n",
              "      <th>Subject</th>\n",
              "      <th>Content-Type</th>\n",
              "      <th>Content-Transfer-Encoding</th>\n",
              "      <th>Reply-To</th>\n",
              "      <th>Message-Id</th>\n",
              "      <th>X-Spam-Flag</th>\n",
              "      <th>X-Spam-Score</th>\n",
              "      <th>X-Spam-Level</th>\n",
              "      <th>X-Spam-Status</th>\n",
              "      <th>X-Mailer</th>\n",
              "      <th>Authentication-Results</th>\n",
              "      <th>DKIM-Signature</th>\n",
              "      <th>DomainKey-Signature</th>\n",
              "      <th>Mime-Version</th>\n",
              "      <th>Reply-to</th>\n",
              "      <th>X-Mailer-LID</th>\n",
              "      <th>List-Unsubscribe</th>\n",
              "      <th>X-Mailer-RecptId</th>\n",
              "      <th>X-Mailer-SID</th>\n",
              "      <th>X-Mailer-Sent-By</th>\n",
              "      <th>User-Agent</th>\n",
              "      <th>Content-Language</th>\n",
              "      <th>X-Accept-Language</th>\n",
              "      <th>X-Failed-Recipients</th>\n",
              "      <th>Auto-Submitted</th>\n",
              "      <th>X-opentraffic-bounce</th>\n",
              "      <th>X-CTASD-RefID</th>\n",
              "      <th>X-CTASD-IP</th>\n",
              "      <th>X-CTASD-Sender</th>\n",
              "      <th>...</th>\n",
              "      <th>X-OutGoing-Spam-Status</th>\n",
              "      <th>X-Subscriber-Uid</th>\n",
              "      <th>X-Campaign-Uid</th>\n",
              "      <th>X-Mailgun-Sid</th>\n",
              "      <th>X-Mailgun-Batch-Id</th>\n",
              "      <th>content-type</th>\n",
              "      <th>X-UI-Sender-Class</th>\n",
              "      <th>X-tDid</th>\n",
              "      <th>X-Data</th>\n",
              "      <th>x-tdresult</th>\n",
              "      <th>X-SpamInfo</th>\n",
              "      <th>X-HYLR-MailScanner-Information</th>\n",
              "      <th>X-HYLR-MailScanner-ID</th>\n",
              "      <th>X-HYLR-MailScanner</th>\n",
              "      <th>X-HYLR-MailScanner-From</th>\n",
              "      <th>X-Sensitivity</th>\n",
              "      <th>X-XaM3-API-Version</th>\n",
              "      <th>X-SenderIP</th>\n",
              "      <th>X-virtual-MTA</th>\n",
              "      <th>X-intended-MTA</th>\n",
              "      <th>X-AAID/CID</th>\n",
              "      <th>X-MRID</th>\n",
              "      <th>X-OP-MARKETING</th>\n",
              "      <th>X-Subscription</th>\n",
              "      <th>X-job</th>\n",
              "      <th>X-unsubscriber-link</th>\n",
              "      <th>X-77F55803</th>\n",
              "      <th>X-7FA49CB5</th>\n",
              "      <th>X-Mailru-Sender</th>\n",
              "      <th>X-Mras</th>\n",
              "      <th>X-Default-Received-SPF</th>\n",
              "      <th>X-To-Not-Matched</th>\n",
              "      <th>X-Country</th>\n",
              "      <th>X-Auto-Response-Suppress</th>\n",
              "      <th>x-mru-trust-ip</th>\n",
              "      <th>X-Boxtrapper</th>\n",
              "      <th>X-Autorespond</th>\n",
              "      <th>X-Precedence</th>\n",
              "      <th>X-Forefront-Antispam-Report</th>\n",
              "      <th>X-Originating-Email</th>\n",
              "    </tr>\n",
              "  </thead>\n",
              "  <tbody>\n",
              "    <tr>\n",
              "      <th>0</th>\n",
              "      <td>0</td>\n",
              "      <td>&lt;TerryDavis@looneytours.it&gt;</td>\n",
              "      <td>malli@mail1-fi1.d-fence.eu</td>\n",
              "      <td>from asx121.turbo-inline.com ([161.38.226.1]) ...</td>\n",
              "      <td>hermanni@foobar.fi</td>\n",
              "      <td>amavisd-new at ikijono.foobar.fi</td>\n",
              "      <td>&lt;0DBBF73D.8F69639B@looneytours.it&gt;</td>\n",
              "      <td>Wed, 03 Jul 2019 12:26:37 +0400</td>\n",
              "      <td>\"Aranza\" &lt;TerryDavis@looneytours.it&gt;</td>\n",
              "      <td>1</td>\n",
              "      <td>\"Aranza\" &lt;janne@foobar.fi&gt;</td>\n",
              "      <td>=?ISO3166-1?B?bWl0a8OkIG92YXQgc3V1bm5pdGVsbWFz...</td>\n",
              "      <td>text/html;\\n\\tcharset=\"ISO 3166-1\"</td>\n",
              "      <td>base64</td>\n",
              "      <td>NaN</td>\n",
              "      <td>NaN</td>\n",
              "      <td>NaN</td>\n",
              "      <td>NaN</td>\n",
              "      <td>NaN</td>\n",
              "      <td>NaN</td>\n",
              "      <td>NaN</td>\n",
              "      <td>NaN</td>\n",
              "      <td>NaN</td>\n",
              "      <td>NaN</td>\n",
              "      <td>NaN</td>\n",
              "      <td>NaN</td>\n",
              "      <td>NaN</td>\n",
              "      <td>NaN</td>\n",
              "      <td>NaN</td>\n",
              "      <td>NaN</td>\n",
              "      <td>NaN</td>\n",
              "      <td>NaN</td>\n",
              "      <td>NaN</td>\n",
              "      <td>NaN</td>\n",
              "      <td>NaN</td>\n",
              "      <td>NaN</td>\n",
              "      <td>NaN</td>\n",
              "      <td>NaN</td>\n",
              "      <td>NaN</td>\n",
              "      <td>NaN</td>\n",
              "      <td>...</td>\n",
              "      <td>NaN</td>\n",
              "      <td>NaN</td>\n",
              "      <td>NaN</td>\n",
              "      <td>NaN</td>\n",
              "      <td>NaN</td>\n",
              "      <td>NaN</td>\n",
              "      <td>NaN</td>\n",
              "      <td>NaN</td>\n",
              "      <td>NaN</td>\n",
              "      <td>NaN</td>\n",
              "      <td>NaN</td>\n",
              "      <td>NaN</td>\n",
              "      <td>NaN</td>\n",
              "      <td>NaN</td>\n",
              "      <td>NaN</td>\n",
              "      <td>NaN</td>\n",
              "      <td>NaN</td>\n",
              "      <td>NaN</td>\n",
              "      <td>NaN</td>\n",
              "      <td>NaN</td>\n",
              "      <td>NaN</td>\n",
              "      <td>NaN</td>\n",
              "      <td>NaN</td>\n",
              "      <td>NaN</td>\n",
              "      <td>NaN</td>\n",
              "      <td>NaN</td>\n",
              "      <td>NaN</td>\n",
              "      <td>NaN</td>\n",
              "      <td>NaN</td>\n",
              "      <td>NaN</td>\n",
              "      <td>NaN</td>\n",
              "      <td>NaN</td>\n",
              "      <td>NaN</td>\n",
              "      <td>NaN</td>\n",
              "      <td>NaN</td>\n",
              "      <td>NaN</td>\n",
              "      <td>NaN</td>\n",
              "      <td>NaN</td>\n",
              "      <td>NaN</td>\n",
              "      <td>NaN</td>\n",
              "    </tr>\n",
              "    <tr>\n",
              "      <th>1</th>\n",
              "      <td>1</td>\n",
              "      <td>&lt;TonyCook@lorenznet.it&gt;</td>\n",
              "      <td>malli@mail1-fi1.d-fence.eu</td>\n",
              "      <td>from unknown (47.238.88.2)\\n\\tby mtu23.bigping...</td>\n",
              "      <td>kimmo.sipila@foobar.fi</td>\n",
              "      <td>amavisd-new at ikijono.foobar.fi</td>\n",
              "      <td>&lt;EC55BB14.8536F512@lorenznet.it&gt;</td>\n",
              "      <td>Wed, 03 Jul 2019 01:24:54 -0800</td>\n",
              "      <td>\"Deborah\" &lt;TonyCook@lorenznet.it&gt;</td>\n",
              "      <td>1</td>\n",
              "      <td>\"Deborah\" &lt;kimmo.sipila@foobar.fi&gt;</td>\n",
              "      <td>=?ISO3166-1?B?T2xlbiBrYWRvbm51dA==?=</td>\n",
              "      <td>text/html;\\n\\tcharset=\"ISO 3166-1\"</td>\n",
              "      <td>base64</td>\n",
              "      <td>\"Deborah\" &lt;TonyCook@lorenznet.it&gt;</td>\n",
              "      <td>NaN</td>\n",
              "      <td>NaN</td>\n",
              "      <td>NaN</td>\n",
              "      <td>NaN</td>\n",
              "      <td>NaN</td>\n",
              "      <td>NaN</td>\n",
              "      <td>NaN</td>\n",
              "      <td>NaN</td>\n",
              "      <td>NaN</td>\n",
              "      <td>NaN</td>\n",
              "      <td>NaN</td>\n",
              "      <td>NaN</td>\n",
              "      <td>NaN</td>\n",
              "      <td>NaN</td>\n",
              "      <td>NaN</td>\n",
              "      <td>NaN</td>\n",
              "      <td>NaN</td>\n",
              "      <td>NaN</td>\n",
              "      <td>NaN</td>\n",
              "      <td>NaN</td>\n",
              "      <td>NaN</td>\n",
              "      <td>NaN</td>\n",
              "      <td>NaN</td>\n",
              "      <td>NaN</td>\n",
              "      <td>NaN</td>\n",
              "      <td>...</td>\n",
              "      <td>NaN</td>\n",
              "      <td>NaN</td>\n",
              "      <td>NaN</td>\n",
              "      <td>NaN</td>\n",
              "      <td>NaN</td>\n",
              "      <td>NaN</td>\n",
              "      <td>NaN</td>\n",
              "      <td>NaN</td>\n",
              "      <td>NaN</td>\n",
              "      <td>NaN</td>\n",
              "      <td>NaN</td>\n",
              "      <td>NaN</td>\n",
              "      <td>NaN</td>\n",
              "      <td>NaN</td>\n",
              "      <td>NaN</td>\n",
              "      <td>NaN</td>\n",
              "      <td>NaN</td>\n",
              "      <td>NaN</td>\n",
              "      <td>NaN</td>\n",
              "      <td>NaN</td>\n",
              "      <td>NaN</td>\n",
              "      <td>NaN</td>\n",
              "      <td>NaN</td>\n",
              "      <td>NaN</td>\n",
              "      <td>NaN</td>\n",
              "      <td>NaN</td>\n",
              "      <td>NaN</td>\n",
              "      <td>NaN</td>\n",
              "      <td>NaN</td>\n",
              "      <td>NaN</td>\n",
              "      <td>NaN</td>\n",
              "      <td>NaN</td>\n",
              "      <td>NaN</td>\n",
              "      <td>NaN</td>\n",
              "      <td>NaN</td>\n",
              "      <td>NaN</td>\n",
              "      <td>NaN</td>\n",
              "      <td>NaN</td>\n",
              "      <td>NaN</td>\n",
              "      <td>NaN</td>\n",
              "    </tr>\n",
              "    <tr>\n",
              "      <th>2</th>\n",
              "      <td>2</td>\n",
              "      <td>&lt;lauri.hirvonen@bbbs.net&gt;</td>\n",
              "      <td>malli@mail1-fi1.d-fence.eu</td>\n",
              "      <td>by bbbs.net (Postfix, from uid 5)\\n        id ...</td>\n",
              "      <td>lauri.hirvonen@bbbs.net</td>\n",
              "      <td>amavisd-new at risa.bbbs.net</td>\n",
              "      <td>NaN</td>\n",
              "      <td>Wed, Jul  3 2019 10:30:04 +0000 (UTC)</td>\n",
              "      <td>lauri.hirvonen@bbbs.net</td>\n",
              "      <td>1</td>\n",
              "      <td>lauri.hirvonen@bbbs.net</td>\n",
              "      <td>Pharmcy: ask my wife</td>\n",
              "      <td>multipart/alternative; boundary=\"4383D6E616F-6...</td>\n",
              "      <td>NaN</td>\n",
              "      <td>NaN</td>\n",
              "      <td>&lt;1562149804.1C1F04476F7@bbbs.net&gt;</td>\n",
              "      <td>NaN</td>\n",
              "      <td>NaN</td>\n",
              "      <td>NaN</td>\n",
              "      <td>NaN</td>\n",
              "      <td>NaN</td>\n",
              "      <td>NaN</td>\n",
              "      <td>NaN</td>\n",
              "      <td>NaN</td>\n",
              "      <td>NaN</td>\n",
              "      <td>NaN</td>\n",
              "      <td>NaN</td>\n",
              "      <td>NaN</td>\n",
              "      <td>NaN</td>\n",
              "      <td>NaN</td>\n",
              "      <td>NaN</td>\n",
              "      <td>NaN</td>\n",
              "      <td>NaN</td>\n",
              "      <td>NaN</td>\n",
              "      <td>NaN</td>\n",
              "      <td>NaN</td>\n",
              "      <td>NaN</td>\n",
              "      <td>NaN</td>\n",
              "      <td>NaN</td>\n",
              "      <td>NaN</td>\n",
              "      <td>...</td>\n",
              "      <td>NaN</td>\n",
              "      <td>NaN</td>\n",
              "      <td>NaN</td>\n",
              "      <td>NaN</td>\n",
              "      <td>NaN</td>\n",
              "      <td>NaN</td>\n",
              "      <td>NaN</td>\n",
              "      <td>NaN</td>\n",
              "      <td>NaN</td>\n",
              "      <td>NaN</td>\n",
              "      <td>NaN</td>\n",
              "      <td>NaN</td>\n",
              "      <td>NaN</td>\n",
              "      <td>NaN</td>\n",
              "      <td>NaN</td>\n",
              "      <td>NaN</td>\n",
              "      <td>NaN</td>\n",
              "      <td>NaN</td>\n",
              "      <td>NaN</td>\n",
              "      <td>NaN</td>\n",
              "      <td>NaN</td>\n",
              "      <td>NaN</td>\n",
              "      <td>NaN</td>\n",
              "      <td>NaN</td>\n",
              "      <td>NaN</td>\n",
              "      <td>NaN</td>\n",
              "      <td>NaN</td>\n",
              "      <td>NaN</td>\n",
              "      <td>NaN</td>\n",
              "      <td>NaN</td>\n",
              "      <td>NaN</td>\n",
              "      <td>NaN</td>\n",
              "      <td>NaN</td>\n",
              "      <td>NaN</td>\n",
              "      <td>NaN</td>\n",
              "      <td>NaN</td>\n",
              "      <td>NaN</td>\n",
              "      <td>NaN</td>\n",
              "      <td>NaN</td>\n",
              "      <td>NaN</td>\n",
              "    </tr>\n",
              "    <tr>\n",
              "      <th>3</th>\n",
              "      <td>3</td>\n",
              "      <td>&lt;oyen@temp-team.no&gt;</td>\n",
              "      <td>malli@mail1-fi1.d-fence.eu</td>\n",
              "      <td>from static.vnpt.vn (unknown [14.190.240.242])...</td>\n",
              "      <td>sales@sample.d-fence.fi</td>\n",
              "      <td>No viruses found (D-Fence M-Safe, https://d-fe...</td>\n",
              "      <td>&lt;85D43D27CA6CCED08168729F399B85D4@temp-team.no&gt;</td>\n",
              "      <td>3 Jul 2019 23:22:45 +0600</td>\n",
              "      <td>&lt;oyen@temp-team.no&gt;</td>\n",
              "      <td>1</td>\n",
              "      <td>&lt;sales@sample.d-fence.fi&gt;</td>\n",
              "      <td>[SPAM: 5.842] Tilisi on vahingoittunut</td>\n",
              "      <td>multipart/alternative; boundary=\"---------3316...</td>\n",
              "      <td>NaN</td>\n",
              "      <td>NaN</td>\n",
              "      <td>NaN</td>\n",
              "      <td>YES</td>\n",
              "      <td>5.842</td>\n",
              "      <td>*****</td>\n",
              "      <td>Yes, score=5.842 tagged_above=4.8 required=4.8...</td>\n",
              "      <td>Rkrmbse mjdkcfw 7.9</td>\n",
              "      <td>NaN</td>\n",
              "      <td>NaN</td>\n",
              "      <td>NaN</td>\n",
              "      <td>NaN</td>\n",
              "      <td>NaN</td>\n",
              "      <td>NaN</td>\n",
              "      <td>NaN</td>\n",
              "      <td>NaN</td>\n",
              "      <td>NaN</td>\n",
              "      <td>NaN</td>\n",
              "      <td>NaN</td>\n",
              "      <td>NaN</td>\n",
              "      <td>NaN</td>\n",
              "      <td>NaN</td>\n",
              "      <td>NaN</td>\n",
              "      <td>NaN</td>\n",
              "      <td>NaN</td>\n",
              "      <td>NaN</td>\n",
              "      <td>NaN</td>\n",
              "      <td>...</td>\n",
              "      <td>NaN</td>\n",
              "      <td>NaN</td>\n",
              "      <td>NaN</td>\n",
              "      <td>NaN</td>\n",
              "      <td>NaN</td>\n",
              "      <td>NaN</td>\n",
              "      <td>NaN</td>\n",
              "      <td>NaN</td>\n",
              "      <td>NaN</td>\n",
              "      <td>NaN</td>\n",
              "      <td>NaN</td>\n",
              "      <td>NaN</td>\n",
              "      <td>NaN</td>\n",
              "      <td>NaN</td>\n",
              "      <td>NaN</td>\n",
              "      <td>NaN</td>\n",
              "      <td>NaN</td>\n",
              "      <td>NaN</td>\n",
              "      <td>NaN</td>\n",
              "      <td>NaN</td>\n",
              "      <td>NaN</td>\n",
              "      <td>NaN</td>\n",
              "      <td>NaN</td>\n",
              "      <td>NaN</td>\n",
              "      <td>NaN</td>\n",
              "      <td>NaN</td>\n",
              "      <td>NaN</td>\n",
              "      <td>NaN</td>\n",
              "      <td>NaN</td>\n",
              "      <td>NaN</td>\n",
              "      <td>NaN</td>\n",
              "      <td>NaN</td>\n",
              "      <td>NaN</td>\n",
              "      <td>NaN</td>\n",
              "      <td>NaN</td>\n",
              "      <td>NaN</td>\n",
              "      <td>NaN</td>\n",
              "      <td>NaN</td>\n",
              "      <td>NaN</td>\n",
              "      <td>NaN</td>\n",
              "    </tr>\n",
              "    <tr>\n",
              "      <th>4</th>\n",
              "      <td>4</td>\n",
              "      <td>&lt;11961-104-61044-2676-touko.rajala=bbbs.net@ma...</td>\n",
              "      <td>malli@mail1-fi1.d-fence.eu</td>\n",
              "      <td>from peer.blockerglas.xyz (unknown [45.12.204....</td>\n",
              "      <td>touko.rajala@bbbs.net</td>\n",
              "      <td>amavisd-new at risa.bbbs.net</td>\n",
              "      <td>&lt;7dv16haup5utt8il-rszxwh3oxs9xuq9g-ee74@blocke...</td>\n",
              "      <td>Wed, 3 Jul 2019 06:55:19 -0400</td>\n",
              "      <td>\"Get Smart Socket\" &lt;Support@blockerglas.xyz&gt;</td>\n",
              "      <td>NaN</td>\n",
              "      <td>&lt;touko.rajala@bbbs.net&gt;</td>\n",
              "      <td>Turn Any Device Into Smart Wireless Device</td>\n",
              "      <td>multipart/alternative; boundary=\"b5e2dfc191b08...</td>\n",
              "      <td>NaN</td>\n",
              "      <td>\"Get Smart Socket\" &lt;Info@blockerglas.xyz&gt;</td>\n",
              "      <td>NaN</td>\n",
              "      <td>NaN</td>\n",
              "      <td>NaN</td>\n",
              "      <td>NaN</td>\n",
              "      <td>NaN</td>\n",
              "      <td>NaN</td>\n",
              "      <td>risa.bbbs.net (amavisd-new); dkim=pass (1024-b...</td>\n",
              "      <td>v=1; a=rsa-sha1; c=relaxed/relaxed; s=k1; d=bl...</td>\n",
              "      <td>a=rsa-sha1; c=nofws; q=dns; s=k1; d=blockergla...</td>\n",
              "      <td>1.0</td>\n",
              "      <td>NaN</td>\n",
              "      <td>NaN</td>\n",
              "      <td>NaN</td>\n",
              "      <td>NaN</td>\n",
              "      <td>NaN</td>\n",
              "      <td>NaN</td>\n",
              "      <td>NaN</td>\n",
              "      <td>NaN</td>\n",
              "      <td>NaN</td>\n",
              "      <td>NaN</td>\n",
              "      <td>NaN</td>\n",
              "      <td>NaN</td>\n",
              "      <td>NaN</td>\n",
              "      <td>NaN</td>\n",
              "      <td>NaN</td>\n",
              "      <td>...</td>\n",
              "      <td>NaN</td>\n",
              "      <td>NaN</td>\n",
              "      <td>NaN</td>\n",
              "      <td>NaN</td>\n",
              "      <td>NaN</td>\n",
              "      <td>NaN</td>\n",
              "      <td>NaN</td>\n",
              "      <td>NaN</td>\n",
              "      <td>NaN</td>\n",
              "      <td>NaN</td>\n",
              "      <td>NaN</td>\n",
              "      <td>NaN</td>\n",
              "      <td>NaN</td>\n",
              "      <td>NaN</td>\n",
              "      <td>NaN</td>\n",
              "      <td>NaN</td>\n",
              "      <td>NaN</td>\n",
              "      <td>NaN</td>\n",
              "      <td>NaN</td>\n",
              "      <td>NaN</td>\n",
              "      <td>NaN</td>\n",
              "      <td>NaN</td>\n",
              "      <td>NaN</td>\n",
              "      <td>NaN</td>\n",
              "      <td>NaN</td>\n",
              "      <td>NaN</td>\n",
              "      <td>NaN</td>\n",
              "      <td>NaN</td>\n",
              "      <td>NaN</td>\n",
              "      <td>NaN</td>\n",
              "      <td>NaN</td>\n",
              "      <td>NaN</td>\n",
              "      <td>NaN</td>\n",
              "      <td>NaN</td>\n",
              "      <td>NaN</td>\n",
              "      <td>NaN</td>\n",
              "      <td>NaN</td>\n",
              "      <td>NaN</td>\n",
              "      <td>NaN</td>\n",
              "      <td>NaN</td>\n",
              "    </tr>\n",
              "  </tbody>\n",
              "</table>\n",
              "<p>5 rows × 433 columns</p>\n",
              "</div>"
            ],
            "text/plain": [
              "   Unnamed: 0  ... X-Originating-Email\n",
              "0           0  ...                 NaN\n",
              "1           1  ...                 NaN\n",
              "2           2  ...                 NaN\n",
              "3           3  ...                 NaN\n",
              "4           4  ...                 NaN\n",
              "\n",
              "[5 rows x 433 columns]"
            ]
          },
          "metadata": {
            "tags": []
          },
          "execution_count": 22
        }
      ]
    },
    {
      "cell_type": "code",
      "metadata": {
        "id": "GTGvz4S-ga7T",
        "colab_type": "code",
        "outputId": "044c6176-a541-4d51-dad8-17b9719f5f3f",
        "colab": {
          "base_uri": "https://localhost:8080/",
          "height": 800
        }
      },
      "source": [
        "df[df[\"Authentication-Results\"].str.contains(\"fail\", na=False)][\"Authentication-Results\"].value_counts() #1st priority (dkim is 1 of 3 domain keys)\n"
      ],
      "execution_count": 0,
      "outputs": [
        {
          "output_type": "execute_result",
          "data": {
            "text/plain": [
              "risa.bbbs.net (amavisd-new); dkim=fail (1024-bit key)\\n\\treason=\"fail (bad RSA signature)\" header.d=hnmdrahsya.info;\\n\\tdomainkeys=fail (1024-bit key) reason=\"fail (bad RSA signature)\"\\n\\theader.from=newsletters@hnmdrahsya.info header.d=hnmdrahsya.info                                                               4\n",
              "risa.bbbs.net (amavisd-new); dkim=fail (1024-bit key)\\n\\treason=\"fail (bad RSA signature)\" header.d=kongatekola.info;\\n\\tdomainkeys=fail (1024-bit key) reason=\"fail (bad RSA signature)\"\\n\\theader.from=newsletters@kongatekola.info header.d=kongatekola.info                                                            4\n",
              "mx1-fi1.d-fence.eu (amavisd-new);\\n\\tdkim=fail (1024-bit key) reason=\"fail (bad RSA signature)\"\\n\\theader.d=pharmastoreline.com                                                                                                                                                                                            3\n",
              "ikijono.foobar.fi (amavisd-new);\\n\\tdkim=fail (1024-bit key) reason=\"fail (bad RSA signature)\"\\n\\theader.d=hnmdrahsya.info; domainkeys=fail (1024-bit key)\\n\\treason=\"fail (bad RSA signature)\"\\n\\theader.from=newsletters@hnmdrahsya.info header.d=hnmdrahsya.info                                                        2\n",
              "risa.bbbs.net (amavisd-new); dkim=fail (1024-bit key)\\n\\treason=\"fail (bad RSA signature)\" header.d=futured.bid;\\n\\tdomainkeys=fail (1024-bit key) reason=\"fail (bad RSA signature)\"\\n\\theader.from=CanadaGreen@futured.bid header.d=futured.bid                                                                           2\n",
              "risa.bbbs.net (amavisd-new); dkim=fail (1024-bit key)\\n\\treason=\"fail (bad RSA signature)\" header.d=kalinuex.xyz;\\n\\tdomainkeys=fail (1024-bit key) reason=\"fail (bad RSA signature)\"\\n\\theader.from=newsletters@kalinuex.xyz header.d=kalinuex.xyz                                                                        2\n",
              "ikijono.foobar.fi (amavisd); dkim=fail (1024-bit key)\\n\\treason=\"fail (bad RSA signature)\" header.d=kongatekola.info;\\n\\tdomainkeys=fail (1024-bit key) reason=\"fail (bad RSA signature)\"\\n\\theader.from=newsletters@kongatekola.info header.d=kongatekola.info                                                            2\n",
              "mx2-fi1.d-fence.eu (amavisd-new);\\n\\tdkim=fail (1024-bit key) reason=\"fail (bad RSA signature)\"\\n\\theader.d=chiniotnews.com                                                                                                                                                                                                2\n",
              "ikijono.foobar.fi (amavisd-new);\\n\\tdkim=fail (1024-bit key) reason=\"fail (body has been altered)\"\\n\\theader.d=ropij.ru                                                                                                                                                                                                    1\n",
              "risa.bbbs.net (amavisd-new); dkim=fail (1024-bit key)\\n\\treason=\"fail (bad RSA signature)\" header.d=snorexrsiz.bid;\\n\\tdomainkeys=fail (1024-bit key) reason=\"fail (bad RSA signature)\"\\n\\theader.from=Sarah@snorexrsiz.bid header.d=snorexrsiz.bid                                                                        1\n",
              "mx3-fi1.d-fence.eu (amavisd-new);\\n\\tdkim=fail (1024-bit key) reason=\"fail (bad RSA signature)\"\\n\\theader.d=cashloansecure.com                                                                                                                                                                                             1\n",
              "mx3-fi1.d-fence.eu (amavisd-new);\\n\\tdkim=fail (1024-bit key) reason=\"fail (bad RSA signature)\"\\n\\theader.d=pharmastoreline.com                                                                                                                                                                                            1\n",
              "ikijono.foobar.fi (amavisd-new);\\n\\tdkim=fail (2048-bit key) reason=\"fail (message has been altered)\"\\n\\theader.d=gmail.com                                                                                                                                                                                                1\n",
              "ikijono.foobar.fi (amavisd); dkim=fail (2048-bit key)\\n\\treason=\"fail (message has been altered)\" header.d=gmail.com                                                                                                                                                                                                       1\n",
              "risa.bbbs.net (amavisd-new); dkim=fail (1024-bit key)\\n\\treason=\"fail (bad RSA signature)\" header.d=diettlos.bid;\\n\\tdomainkeys=fail (1024-bit key) reason=\"fail (bad RSA signature)\"\\n\\theader.from=FreeShippingLowCarb@diettlos.bid header.d=diettlos.bid                                                                1\n",
              "ikijono.foobar.fi (amavisd-new);\\n\\tdkim=fail (2048-bit key) reason=\"fail (message has been altered)\"\\n\\theader.d=enternews.de                                                                                                                                                                                             1\n",
              "risa.bbbs.net (amavisd-new); dkim=fail (1024-bit key)\\n\\treason=\"fail (OpenSSL error: data too large for modulus)\"\\n\\theader.d=mnbrstt.bid; domainkeys=fail (1024-bit key)\\n\\treason=\"fail (bad RSA signature)\"\\n\\theader.from=HalitosisCure@mnbrstt.bid header.d=mnbrstt.bid                                              1\n",
              "mx3-fi1.d-fence.eu (amavisd-new);\\n\\tdkim=fail (1024-bit key)\\n\\treason=\"fail (OpenSSL error: data too large for modulus)\"\\n\\theader.d=chiniotnews.com                                                                                                                                                                     1\n",
              "risa.bbbs.net (amavisd-new); dkim=fail (1024-bit key)\\n\\treason=\"fail (bad RSA signature)\" header.d=mnbrstt.bid;\\n\\tdomainkeys=fail (1024-bit key)\\n\\treason=\"fail (OpenSSL error: data too large for modulus)\"\\n\\theader.from=SolarPanels@mnbrstt.bid header.d=mnbrstt.bid                                                1\n",
              "risa.bbbs.net (amavisd-new); dkim=fail (1024-bit key)\\n\\treason=\"fail (bad RSA signature)\" header.d=ledlightsupply.xyz;\\n\\tdomainkeys=fail (1024-bit key) reason=\"fail (bad RSA signature)\"\\n\\theader.from=test3@ledlightsupply.xyz\\n\\theader.sender=test3@ledlightsupply.xyz header.d=ledlightsupply.xyz                  1\n",
              "risa.bbbs.net (amavisd-new); dkim=fail (1024-bit key)\\n\\treason=\"fail (bad RSA signature)\" header.d=colorshydro.best;\\n\\tdomainkeys=fail (1024-bit key) reason=\"fail (bad RSA signature)\"\\n\\theader.from=**Chris**@colorshydro.best header.d=colorshydro.best                                                              1\n",
              "ikijono.foobar.fi (amavisd); dkim=fail (1024-bit key)\\n\\treason=\"fail (bad RSA signature)\" header.d=fipos.ru                                                                                                                                                                                                               1\n",
              "risa.bbbs.net (amavisd-new); dkim=fail (1024-bit key)\\n\\treason=\"fail (bad RSA signature)\" header.d=mnbrstt.bid;\\n\\tdomainkeys=fail (1024-bit key) reason=\"fail (bad RSA signature)\"\\n\\theader.from=BadBreathCure@mnbrstt.bid header.d=mnbrstt.bid                                                                         1\n",
              "mx1-fi1.d-fence.eu (amavisd-new);\\n\\tdkim=fail (2048-bit key) reason=\"fail (bad RSA signature)\"\\n\\theader.d=info.naughtybook.fi                                                                                                                                                                                            1\n",
              "risa.bbbs.net (amavisd-new); dkim=fail (1024-bit key)\\n\\treason=\"fail (bad RSA signature)\" header.d=backheros.best;\\n\\tdomainkeys=fail (1024-bit key) reason=\"fail (bad RSA signature)\"\\n\\theader.from=FindLove@backheros.best header.d=backheros.best                                                                     1\n",
              "mx4-fi1.d-fence.eu (amavisd-new);\\n\\tdkim=fail (1024-bit key) reason=\"fail (bad RSA signature)\"\\n\\theader.d=maasmung.info; domainkeys=fail (1024-bit key)\\n\\treason=\"fail (bad RSA signature)\"\\n\\theader.from=newsletters@maasmung.info header.d=maasmung.info                                                             1\n",
              "mx2-fi1.d-fence.eu (amavisd-new);\\n\\tdkim=pass (1024-bit key) header.d=ontramail.com header.b=BCEbhz2M;\\n\\tdkim=pass (1024-bit key) header.d=ontramail.com header.b=s+Lh0E9V;\\n\\tdomainkeys=fail (1024-bit key)\\n\\treason=\"fail (message has been altered)\"\\n\\theader.sender=10055@ontramail.com header.d=ontramail.com    1\n",
              "risa.bbbs.net (amavisd-new); dkim=fail (1024-bit key)\\n\\treason=\"fail (bad RSA signature)\" header.d=hnmdrahsya.info;\\n\\tdomainkeys=fail (1024-bit key)\\n\\treason=\"fail (OpenSSL error: data too large for modulus)\"\\n\\theader.from=newsletters@hnmdrahsya.info header.d=hnmdrahsya.info                                    1\n",
              "risa.bbbs.net (amavisd-new); dkim=fail (1024-bit key)\\n\\treason=\"fail (bad RSA signature)\" header.d=btrygood.bid;\\n\\tdomainkeys=fail (1024-bit key) reason=\"fail (bad RSA signature)\"\\n\\theader.from=Clipknife@btrygood.bid header.d=btrygood.bid                                                                          1\n",
              "risa.bbbs.net (amavisd-new); dkim=fail (1024-bit key)\\n\\treason=\"fail (OpenSSL error: data too large for key size)\"\\n\\theader.d=skalnity.pl                                                                                                                                                                                1\n",
              "mx2-fi1.d-fence.eu (amavisd-new);\\n\\tdkim=fail (1024-bit key) reason=\"fail (bad RSA signature)\"\\n\\theader.d=pharmastoreline.com                                                                                                                                                                                            1\n",
              "mx4-fi1.d-fence.eu (amavisd-new);\\n\\tdkim=fail (1024-bit key) reason=\"fail (bad RSA signature)\"\\n\\theader.d=pharmastoreline.com                                                                                                                                                                                            1\n",
              "risa.bbbs.net (amavisd-new); dkim=fail (1024-bit key)\\n\\treason=\"fail (OpenSSL error: data too large for modulus)\"\\n\\theader.d=hnmdrahsya.info; domainkeys=fail (1024-bit key)\\n\\treason=\"fail (OpenSSL error: data too large for modulus)\"\\n\\theader.from=newsletters@hnmdrahsya.info header.d=hnmdrahsya.info            1\n",
              "ikijono.foobar.fi (amavisd-new);\\n\\tdkim=fail (1024-bit key) reason=\"fail (bad RSA signature)\"\\n\\theader.d=hnmdrahsya.info; domainkeys=fail (1024-bit key)\\n\\treason=\"fail (OpenSSL error: data too large for modulus)\"\\n\\theader.from=newsletters@hnmdrahsya.info header.d=hnmdrahsya.info                                1\n",
              "risa.bbbs.net (amavisd-new); dkim=fail (1024-bit key)\\n\\treason=\"fail (bad RSA signature)\" header.d=caryholsr.bid;\\n\\tdomainkeys=fail (1024-bit key) reason=\"fail (bad RSA signature)\"\\n\\theader.from=RussianWomenDate@caryholsr.bid header.d=caryholsr.bid                                                                1\n",
              "risa.bbbs.net (amavisd-new); dkim=fail (1024-bit key)\\n\\treason=\"fail (bad RSA signature)\" header.d=backheros.best;\\n\\tdomainkeys=fail (1024-bit key) reason=\"fail (bad RSA signature)\"\\n\\theader.from=YourRussianWoman@backheros.best header.d=backheros.best                                                             1\n",
              "mx1-fi1.d-fence.eu (amavisd-new);\\n\\tdkim=fail (1024-bit key) reason=\"fail (bad RSA signature)\"\\n\\theader.d=chiniotnews.com                                                                                                                                                                                                1\n",
              "risa.bbbs.net (amavisd-new); dkim=fail (1024-bit key)\\n\\treason=\"fail (bad RSA signature)\" header.d=cleftfoundation.org                                                                                                                                                                                                    1\n",
              "risa.bbbs.net (amavisd-new); dkim=fail (1024-bit key)\\n\\treason=\"fail (bad RSA signature)\" header.d=caryholsr.bid;\\n\\tdomainkeys=fail (1024-bit key) reason=\"fail (bad RSA signature)\"\\n\\theader.from=**USAUnplugged**@caryholsr.bid header.d=caryholsr.bid                                                                1\n",
              "risa.bbbs.net (amavisd-new); dkim=fail (1024-bit key)\\n\\treason=\"fail (bad RSA signature)\" header.d=mnbrstt.bid;\\n\\tdomainkeys=fail (1024-bit key)\\n\\treason=\"fail (OpenSSL error: data too large for modulus)\"\\n\\theader.from=SolarSavings@mnbrstt.bid header.d=mnbrstt.bid                                               1\n",
              "risa.bbbs.net (amavisd-new); dkim=fail (1024-bit key)\\n\\treason=\"fail (bad RSA signature)\" header.d=midnightkamofa.co;\\n\\tdomainkeys=fail (1024-bit key) reason=\"fail (bad RSA signature)\"\\n\\theader.from=AsianBeauty@midnightkamofa.co header.d=midnightkamofa.co                                                         1\n",
              "ikijono.foobar.fi (amavisd); dkim=fail (1024-bit key)\\n\\treason=\"fail (bad RSA signature)\" header.d=kalinuex.xyz;\\n\\tdomainkeys=fail (1024-bit key) reason=\"fail (bad RSA signature)\"\\n\\theader.from=newsletters@kalinuex.xyz header.d=kalinuex.xyz                                                                        1\n",
              "risa.bbbs.net (amavisd-new); dkim=fail (1024-bit key)\\n\\treason=\"fail (body has been altered)\" header.d=tysei.ru                                                                                                                                                                                                           1\n",
              "Name: Authentication-Results, dtype: int64"
            ]
          },
          "metadata": {
            "tags": []
          },
          "execution_count": 23
        }
      ]
    },
    {
      "cell_type": "code",
      "metadata": {
        "id": "WDxwQfNlfTYn",
        "colab_type": "code",
        "outputId": "1099d769-5fd6-48f9-ea1c-7d76001e6a28",
        "colab": {
          "base_uri": "https://localhost:8080/",
          "height": 69
        }
      },
      "source": [
        "df[\"X-Spam-Flag\"].value_counts()  #Check spam flag, 2nd priority"
      ],
      "execution_count": 0,
      "outputs": [
        {
          "output_type": "execute_result",
          "data": {
            "text/plain": [
              "YES    188\n",
              "NO      31\n",
              "Name: X-Spam-Flag, dtype: int64"
            ]
          },
          "metadata": {
            "tags": []
          },
          "execution_count": 24
        }
      ]
    },
    {
      "cell_type": "code",
      "metadata": {
        "id": "2WaQ9l0rffrY",
        "colab_type": "code",
        "outputId": "925ad076-fee1-41b7-f363-57e877056515",
        "colab": {
          "base_uri": "https://localhost:8080/",
          "height": 225
        }
      },
      "source": [
        "df[\"X-Spam-Score\"].value_counts() #Check spam score, spam if value = true\n"
      ],
      "execution_count": 0,
      "outputs": [
        {
          "output_type": "execute_result",
          "data": {
            "text/plain": [
              "5.021    11\n",
              "5.001     7\n",
              "5.011     7\n",
              "3.512     5\n",
              "5.009     5\n",
              "         ..\n",
              "3.411     1\n",
              "4.179     1\n",
              "4.314     1\n",
              "3.612     1\n",
              "3.125     1\n",
              "Name: X-Spam-Score, Length: 163, dtype: int64"
            ]
          },
          "metadata": {
            "tags": []
          },
          "execution_count": 25
        }
      ]
    },
    {
      "cell_type": "code",
      "metadata": {
        "colab_type": "code",
        "outputId": "71231b39-df52-4cea-e92d-ed5c6690d181",
        "id": "ANIdQyrNJzVZ",
        "colab": {
          "base_uri": "https://localhost:8080/",
          "height": 225
        }
      },
      "source": [
        "df[\"Reply-To\"].value_counts() #Check reply\n",
        "df['domain_Reply_To'] = df['Reply-To'].str.split('@').str[1]\n",
        "df['domain_Reply_To'].value_counts()\n",
        "# with open('reply_to_domain.txt', 'a+') as f:\n",
        "#     for text in df['domain_Reply_To'].dropna().unique().tolist():\n",
        "#         f.write(str(text) + '\\n')"
      ],
      "execution_count": 0,
      "outputs": [
        {
          "output_type": "execute_result",
          "data": {
            "text/plain": [
              "rambler.ru>            92\n",
              "coupang.com>           60\n",
              "bestorbit.eu>          49\n",
              "gmail.com              41\n",
              "throwawaymail.com>     38\n",
              "                       ..\n",
              "webnetmt.net.br>        1\n",
              "fibernet.hu>            1\n",
              "ssm.co.ke>              1\n",
              "lorikeet.it>            1\n",
              "whilesixlots.world>     1\n",
              "Name: domain_Reply_To, Length: 2705, dtype: int64"
            ]
          },
          "metadata": {
            "tags": []
          },
          "execution_count": 26
        }
      ]
    },
    {
      "cell_type": "code",
      "metadata": {
        "id": "vndIUCCfmzGo",
        "colab_type": "code",
        "outputId": "e5f370d0-2147-49fe-a7c3-4b6d7679a119",
        "colab": {
          "base_uri": "https://localhost:8080/",
          "height": 225
        }
      },
      "source": [
        "df[\"Reply-to\"].value_counts() #Check reply\n",
        "df['domain_Reply_to'] = df['Reply-to'].str.split('@').str[1]\n",
        "df['domain_Reply_to'].value_counts()"
      ],
      "execution_count": 0,
      "outputs": [
        {
          "output_type": "execute_result",
          "data": {
            "text/plain": [
              "carethusa.pro>               15\n",
              "careceae.pro>                13\n",
              "careriae.pro>                13\n",
              "caresity.pro>                13\n",
              "petallcare.icu>              12\n",
              "                             ..\n",
              "codacare.icu>                 1\n",
              "eyecaretm.xyz>                1\n",
              "elcarey.club>                 1\n",
              "StrategicIntervention.com     1\n",
              "soncare.icu>                  1\n",
              "Name: domain_Reply_to, Length: 214, dtype: int64"
            ]
          },
          "metadata": {
            "tags": []
          },
          "execution_count": 27
        }
      ]
    },
    {
      "cell_type": "code",
      "metadata": {
        "id": "MD-0BFOOfutP",
        "colab_type": "code",
        "outputId": "2638a09f-f2e8-4170-91a0-3636171a9049",
        "colab": {
          "base_uri": "https://localhost:8080/",
          "height": 121
        }
      },
      "source": [
        "df[\"X-Spam-Level\"].value_counts().head() #Check spam level, mark spam if value = true"
      ],
      "execution_count": 0,
      "outputs": [
        {
          "output_type": "execute_result",
          "data": {
            "text/plain": [
              "*****    87\n",
              "***      66\n",
              "****     58\n",
              "*         4\n",
              "**        3\n",
              "Name: X-Spam-Level, dtype: int64"
            ]
          },
          "metadata": {
            "tags": []
          },
          "execution_count": 28
        }
      ]
    },
    {
      "cell_type": "code",
      "metadata": {
        "id": "rIRfOZ_ugDQ_",
        "colab_type": "code",
        "outputId": "61b09fb6-70c6-4f95-d7d6-df64d2c67e00",
        "colab": {
          "base_uri": "https://localhost:8080/",
          "height": 225
        }
      },
      "source": [
        "df[\"X-Mailer\"].value_counts() #Check mail engine (X-Mailer), mark spam if there is a strange string in this field"
      ],
      "execution_count": 0,
      "outputs": [
        {
          "output_type": "execute_result",
          "data": {
            "text/plain": [
              "Microsoft Outlook Express 6.00.2600.0000     81\n",
              "Netpion Service Server v3.0.0                60\n",
              "Microsoft Windows Live Mail 16.4.3528.331    58\n",
              "Microsoft Outlook 14.0                       50\n",
              "Microsoft Office Outlook 12.0                47\n",
              "                                             ..\n",
              "Oghlnavk gubveeu                              1\n",
              "Microsoft Outlook Express 6.00.2900.2397      1\n",
              "Mpikjf ivaaux 9.0                             1\n",
              "Gmwslq mdtqh                                  1\n",
              "Microsoft Outlook Express 6.00.2900.2074      1\n",
              "Name: X-Mailer, Length: 174, dtype: int64"
            ]
          },
          "metadata": {
            "tags": []
          },
          "execution_count": 29
        }
      ]
    },
    {
      "cell_type": "code",
      "metadata": {
        "id": "g-jtwoV3rwkd",
        "colab_type": "code",
        "outputId": "2a016349-1db6-462e-d02c-fecfcb98ebb0",
        "colab": {
          "base_uri": "https://localhost:8080/",
          "height": 35
        }
      },
      "source": [
        "df[\"Message-Id\"].value_counts() #Check message Id, use all of these domain for spam filter\n",
        "df['domain'] = df['Message-Id'].str.split('@').str[1]\n",
        "df['domain'].value_counts()\n",
        "df[df[\"Message-Id\"].str.contains(\"temp-team.no\", na=False)][\"Message-Id\"].value_counts() #1st priority (dkim is 1 of 3 domain keys)\n",
        "\n",
        "# with open('message_id_domain.txt', 'w+') as f:\n",
        "#     for text in df['domain'].dropna().unique().tolist():\n",
        "#         f.write(str(text) + '\\n')"
      ],
      "execution_count": 0,
      "outputs": [
        {
          "output_type": "execute_result",
          "data": {
            "text/plain": [
              "Series([], Name: Message-Id, dtype: int64)"
            ]
          },
          "metadata": {
            "tags": []
          },
          "execution_count": 30
        }
      ]
    },
    {
      "cell_type": "code",
      "metadata": {
        "id": "-tRiOzsvaWqI",
        "colab_type": "code",
        "outputId": "dde86c5d-384c-4454-fe20-c47b32898e5d",
        "colab": {
          "base_uri": "https://localhost:8080/",
          "height": 52
        }
      },
      "source": [
        "df[\"Message-ID\"].value_counts() #Check message ID, use all of these domain for spam filter\n",
        "df['domain'] = df['Message-ID'].str.split('@').str[1]\n",
        "df['domain'].value_counts()\n",
        "df[df[\"Message-ID\"].str.contains(\"temp-team.no\", na=False)][\"Message-ID\"].value_counts() #1st priority (dkim is 1 of 3 domain keys)\n",
        "\n",
        "# with open('message_id_domain.txt', 'a+') as f:\n",
        "#   for text in df['domain'].dropna().unique().tolist():\n",
        "#     f.write(str(text) + '\\n')"
      ],
      "execution_count": 0,
      "outputs": [
        {
          "output_type": "execute_result",
          "data": {
            "text/plain": [
              "<85D43D27CA6CCED08168729F399B85D4@temp-team.no>    1\n",
              "Name: Message-ID, dtype: int64"
            ]
          },
          "metadata": {
            "tags": []
          },
          "execution_count": 31
        }
      ]
    },
    {
      "cell_type": "code",
      "metadata": {
        "id": "HSt5GDV5DweD",
        "colab_type": "code",
        "outputId": "90ab8a84-5b0c-45c5-df90-a541b3fc6004",
        "colab": {
          "base_uri": "https://localhost:8080/",
          "height": 225
        }
      },
      "source": [
        "df[\"X-Mailer-Sent-By\"].value_counts() #X-Mailer-sent-by\n",
        "df['domain_Sent_By'] = df['X-Mailer-Sent-By'].str.split('@').str[1]\n",
        "df['domain_Sent_By'].value_counts()\n",
        "# with open('x-mailer-sent-by-domain.txt', 'w+') as f:\n",
        "#     for text in df['domain_Sent_By'].dropna().unique().tolist():\n",
        "#         f.write(str(text) + '\\n')"
      ],
      "execution_count": 0,
      "outputs": [
        {
          "output_type": "execute_result",
          "data": {
            "text/plain": [
              "carethusa.pro    15\n",
              "careriae.pro     13\n",
              "careceae.pro     13\n",
              "caresity.pro     13\n",
              "careidin.pro     12\n",
              "                 ..\n",
              "yocare.pro        1\n",
              "careblvd.xyz      1\n",
              "careerdog.xyz     1\n",
              "rxcare.club       1\n",
              "soncare.icu       1\n",
              "Name: domain_Sent_By, Length: 180, dtype: int64"
            ]
          },
          "metadata": {
            "tags": []
          },
          "execution_count": 32
        }
      ]
    },
    {
      "cell_type": "code",
      "metadata": {
        "id": "SdWiOVPr6mgj",
        "colab_type": "code",
        "outputId": "b1e5a8c9-27d3-4815-da53-714b261b2349",
        "colab": {
          "base_uri": "https://localhost:8080/",
          "height": 121
        }
      },
      "source": [
        "df[\"Content-Transfer-Encoding\"].value_counts()"
      ],
      "execution_count": 0,
      "outputs": [
        {
          "output_type": "execute_result",
          "data": {
            "text/plain": [
              "base64              3430\n",
              "8bit                1181\n",
              "7bit                 304\n",
              "quoted-printable     203\n",
              "binary                 1\n",
              "Name: Content-Transfer-Encoding, dtype: int64"
            ]
          },
          "metadata": {
            "tags": []
          },
          "execution_count": 33
        }
      ]
    },
    {
      "cell_type": "code",
      "metadata": {
        "id": "aPpFjEmCV3Yt",
        "colab_type": "code",
        "outputId": "6af7e53d-da38-4c0a-abb5-49035873c69d",
        "colab": {
          "base_uri": "https://localhost:8080/",
          "height": 121
        }
      },
      "source": [
        "df[\"Subject\"].value_counts().head() #Check Subject, last priority"
      ],
      "execution_count": 0,
      "outputs": [
        {
          "output_type": "execute_result",
          "data": {
            "text/plain": [
              "Get Paid $5900 Daily With UNDERGROUND Profit Opportunity                     238\n",
              "Married wives want sex                                                        70\n",
              "Best seller                                                                   68\n",
              "=?euc-kr?B?W8Ttxs5dILOyKsjGtNQgwda5rsfPvcUgs7u/qsC7IMiuwM7H2MHWvLy/5C4=?=     58\n",
              "=?ISO3166-1?B?SGFsdWFpc2luIGt5c3nDpCB0ZWlsdMOk?=                              54\n",
              "Name: Subject, dtype: int64"
            ]
          },
          "metadata": {
            "tags": []
          },
          "execution_count": 34
        }
      ]
    },
    {
      "cell_type": "code",
      "metadata": {
        "id": "vQfX8CWKKPUT",
        "colab_type": "code",
        "outputId": "15067f96-c632-467f-bd81-fe8c3c538101",
        "colab": {
          "base_uri": "https://localhost:8080/",
          "height": 141
        }
      },
      "source": [
        "df[\"Thread-Topic\"].value_counts().head()"
      ],
      "execution_count": 0,
      "outputs": [
        {
          "output_type": "execute_result",
          "data": {
            "text/plain": [
              "=?iso-8859-9?Q?Rusya_Parsiyel_Cargo_Ta=FE=FDmac=FDl=FD=F0=FD?=                                                                                                              2\n",
              "ONNITTELUT, SINULLA ON LAHJOITUS 2 000 000 DOLLARIA MINUN ARPAJAISET VOITTAA!!!                                                                                             2\n",
              "\\n =?utf-8?B?RC1GZW5jZSBlaSB0dW5uaXN0YSB0w6RsbMOkIGhldGtlbGzDpCBTUEFNL2F0?=\\n =?utf-8?B?dGFjayB2aWVzdGllasOkIHluY2V4aHpAaGVydG9ucy5hcnQgb3NvaXR0ZWVz?=\\n =?utf-8?Q?ta.?=    1\n",
              "E-commerce website development                                                                                                                                              1\n",
              "3% Loan Offer Apply Now                                                                                                                                                     1\n",
              "Name: Thread-Topic, dtype: int64"
            ]
          },
          "metadata": {
            "tags": []
          },
          "execution_count": 35
        }
      ]
    },
    {
      "cell_type": "code",
      "metadata": {
        "id": "jd7QW9_TK4P1",
        "colab_type": "code",
        "outputId": "377bd6f1-9307-4c7f-dea8-8db467969aa4",
        "colab": {
          "base_uri": "https://localhost:8080/",
          "height": 121
        }
      },
      "source": [
        "df[\"Thread-Index\"].value_counts().head()"
      ],
      "execution_count": 0,
      "outputs": [
        {
          "output_type": "execute_result",
          "data": {
            "text/plain": [
              "bhvc7MX6xfc7O7+6KZWsj65moI6PaQ==    2\n",
              "Acv7tp0n9v7tp0n9v7tp0n9v7tp0n9==    1\n",
              "Acx324pglx324pglx324pglx324pgl==    1\n",
              "Ac2sr35g3b4cigvy2sr35g3b4cigvy==    1\n",
              "Aclkj10opra7gijflkj10opra7gijf==    1\n",
              "Name: Thread-Index, dtype: int64"
            ]
          },
          "metadata": {
            "tags": []
          },
          "execution_count": 36
        }
      ]
    }
  ]
}